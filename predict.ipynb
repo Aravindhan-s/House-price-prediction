{
  "cells": [
    {
      "metadata": {
        "_cell_guid": "52864d6a-4328-4651-8e96-ce644bc47c4f",
        "_uuid": "bf2dbe2fc1e387d608c722948b78ce8916343197",
        "collapsed": true,
        "trusted": false
      },
      "cell_type": "code",
      "source": "import pandas as pd\nimport numpy as np\nfrom xgboost.sklearn import XGBRegressor\nfrom sklearn.linear_model import LassoCV\nfrom sklearn.pipeline import Pipeline\nfrom sklearn.preprocessing import StandardScaler\nimport math\nfrom statistics import mode\nfrom sklearn.model_selection import cross_val_score\nfrom sklearn.model_selection import GridSearchCV\n\ndf_actual = pd.read_csv('../input/train.csv')\ntf_actual = pd.read_csv('../input/test.csv')\nzt = tf_actual['Id'].values\ndf = df_actual.drop(['Id'],axis=1)\ntf = tf_actual.drop(['Id'],axis=1)",
      "execution_count": null,
      "outputs": []
    },
    {
      "metadata": {
        "_cell_guid": "c434a361-efd0-40fd-a359-279697c4b901",
        "_uuid": "f1ea93240e431b9bd436cdc31b6a708f70a30f8d",
        "trusted": false
      },
      "cell_type": "code",
      "source": "num_cols = df.select_dtypes(include=['number']).columns\nndf = df[num_cols]\n#Splitting columns with number values\nndf = ndf.drop(['MSSubClass','MoSold','YrSold'],axis=1)\n#Numerical values which are actually categorical\nndf = ndf.fillna(ndf.median())\n#Filling missing values with median gives better results than filling the with 0\n\nndf[\"GarageArea\"][ndf[\"GarageArea\"]>1100] = ndf[\"GarageArea\"].mean()\nndf[\"TotalBsmtSF\"][ndf[\"TotalBsmtSF\"]>=3000] = ndf[\"TotalBsmtSF\"].mean()\nndf[\"1stFlrSF\"][ndf[\"1stFlrSF\"]>=2500] = ndf[\"1stFlrSF\"].mean()\nndf[\"GrLivArea\"][ndf[\"GrLivArea\"]>=4000] = ndf[\"GrLivArea\"].mean()\nndf[\"WoodDeckSF\"][ndf[\"WoodDeckSF\"]>=600] = ndf[\"WoodDeckSF\"].mean()\nndf[\"LotFrontage\"][ndf[\"LotFrontage\"]>=160] = ndf[\"LotFrontage\"].mean()\nndf[\"LotArea\"][ndf[\"LotArea\"]>=27000] = ndf[\"LotArea\"].mean()\nlen(ndf.columns)",
      "execution_count": null,
      "outputs": []
    },
    {
      "metadata": {
        "_cell_guid": "99a9681a-2cca-49cc-bbcc-176d5f54cc5d",
        "_uuid": "0e2c0d688099f047c62b2230d45b61cc5d4fa4cf",
        "trusted": false
      },
      "cell_type": "code",
      "source": "ndf.columns",
      "execution_count": null,
      "outputs": []
    },
    {
      "metadata": {
        "_cell_guid": "48729f8b-9b8c-4c9f-be7c-35a63514bb9b",
        "_uuid": "93cae378d814f0e46bdda45df60dc7dd9a7496e7",
        "collapsed": true,
        "trusted": false
      },
      "cell_type": "code",
      "source": "#Applying non-linear transformation - log base 2 to all columns which dont have 0 because log2(0) = -infinite\nfor _ in ndf.columns:\n    if _ not in ndf.columns[(ndf == 0).any()]:\n        ndf[_] = np.log2(ndf[_])",
      "execution_count": null,
      "outputs": []
    },
    {
      "metadata": {
        "_cell_guid": "cb0885da-f1b5-42d7-8f6c-47d1f958d506",
        "_uuid": "d7406f522b422338f3b9b51ba8f4b87a9d630b87",
        "trusted": false
      },
      "cell_type": "code",
      "source": "#Getting the columns which are not number, i.e., categorical columns\ncat_cols = [_ for _ in df.columns if _ not in ndf.columns]\ncdf = df[cat_cols]\nlen(cdf.columns)",
      "execution_count": null,
      "outputs": []
    },
    {
      "metadata": {
        "_cell_guid": "a382488e-a2b4-43e7-95af-e6f75d778ca7",
        "_uuid": "c7f5b5cb8a82b3a3c098a49c03c306417f227d07",
        "trusted": false
      },
      "cell_type": "code",
      "source": "cdf.columns",
      "execution_count": null,
      "outputs": []
    },
    {
      "metadata": {
        "_cell_guid": "2d7be7aa-176d-4c9f-b69f-98db64349935",
        "_uuid": "bc57742b5e8fbb104c4e9c7c43fa62aa6f9f76ab",
        "trusted": false
      },
      "cell_type": "code",
      "source": "lowlearn_cat = [_ for _ in cdf.columns if 1 - sum(df[_] == mode(df[_]))/len(df) < 0.05]\n#columns with more than 95% same values.\ncdf = cdf.drop(lowlearn_cat,axis=1)\n#are dropped\nlowlearn_cat",
      "execution_count": null,
      "outputs": []
    },
    {
      "metadata": {
        "_cell_guid": "c435451f-8470-4152-8425-287940917441",
        "_uuid": "69614e83812000b85a9face75bff352fd894eacc",
        "trusted": false
      },
      "cell_type": "code",
      "source": "len(cdf.columns)",
      "execution_count": null,
      "outputs": []
    },
    {
      "metadata": {
        "_cell_guid": "4f592cd2-d974-47cc-9e25-dd3028965512",
        "_uuid": "33aecb69f62048e43b8904c967e1416de863a8ba",
        "trusted": false
      },
      "cell_type": "code",
      "source": "#If a categorical column has a NA value it means that property is missing that amenity, which is actually\n#a type of category and hence should be considered as another category.\nactualmiss_cat = [_ for _ in cdf.columns if cdf[_].isnull().any()]\nfor _ in actualmiss_cat:\n    null_ind = cdf[_].isnull()\n    cdf.loc[null_ind, _] = 'None'\nactualmiss_cat",
      "execution_count": null,
      "outputs": []
    },
    {
      "metadata": {
        "_cell_guid": "b234847d-6f2c-4acf-852f-173977ff8151",
        "_uuid": "fac34cf48874d796e4cf028b718117770a991197",
        "collapsed": true,
        "trusted": false
      },
      "cell_type": "code",
      "source": "#Converting the numerical features data type to string type\ncdf[['MSSubClass', 'MoSold', 'YrSold']] = cdf[['MSSubClass', 'MoSold', 'YrSold']].astype(str)",
      "execution_count": null,
      "outputs": []
    },
    {
      "metadata": {
        "_cell_guid": "d3616985-5533-4c8a-b4f4-958547972d7f",
        "_uuid": "2d78efc8f0539bef7b931ed4717cba5e44c4ff6d",
        "collapsed": true,
        "trusted": false
      },
      "cell_type": "code",
      "source": "#Binarising the categorical columns, a new column for each different category in each column is created.\ncdf = pd.get_dummies(cdf)",
      "execution_count": null,
      "outputs": []
    },
    {
      "metadata": {
        "_cell_guid": "293ba83a-c612-4535-8840-f73703108032",
        "_uuid": "346a0497861f2ad10d7d2c1ed5d27be1240a0192",
        "collapsed": true,
        "trusted": false
      },
      "cell_type": "code",
      "source": "#Again filling with median values which is same as filling with mode value as there are only 0's or 1's\ncdf = cdf.fillna(cdf.median())",
      "execution_count": null,
      "outputs": []
    },
    {
      "metadata": {
        "_cell_guid": "3850675b-66a2-4c04-9ca5-6b9eef45a3f7",
        "_uuid": "ae3a53d481af21b0b7fd29cb6b2ffbd26fbf5251",
        "trusted": false
      },
      "cell_type": "code",
      "source": "#Since too many columns have been created and there isn't enough data, the dimensionality of the data has\n#to be reduced. Since there is a column for each different category in each column the categories with\n#very low number properties belonging to it are removed. Below the percentage of properties belonging to\n#each class is shown.\nprint(cdf[cdf == 1].count(axis=0)/14.6)",
      "execution_count": null,
      "outputs": []
    },
    {
      "metadata": {
        "_cell_guid": "5a34c2a3-a5f8-4e8f-baad-e548c836f535",
        "_uuid": "9ffed28be4e84abad341ea8cee50bb101ceca9e1",
        "trusted": false
      },
      "cell_type": "code",
      "source": "#Such columns are stored in a list\nlownum_cat = []\nfor _ in cdf.columns:\n    _c = 0\n    for _i in range(1460):\n        if(cdf.iloc[_i][_] == 1):\n            _c+=1\n    _p = _c/1460\n    if(_p < 0.01):\n        lownum_cat.append(_)\nlownum_cat",
      "execution_count": null,
      "outputs": []
    },
    {
      "metadata": {
        "_cell_guid": "3c9eff33-1a91-4c6b-ae41-b0b758c9e4ce",
        "_uuid": "815f4cbf9a1027b11665a5a49f6085a6fb0aeecc",
        "trusted": false
      },
      "cell_type": "code",
      "source": "ndf.shape,cdf.shape",
      "execution_count": null,
      "outputs": []
    },
    {
      "metadata": {
        "_cell_guid": "570b3d2e-a6d5-42a7-a61c-465a7fa77a07",
        "_uuid": "e8b41099dc4712736b9603fd39b07c67ee460c2d",
        "trusted": false
      },
      "cell_type": "code",
      "source": "dfc = pd.concat([ndf,cdf],axis=1)\nlen(dfc.columns)",
      "execution_count": null,
      "outputs": []
    },
    {
      "metadata": {
        "_cell_guid": "f57748ee-2ae2-4567-a0d6-16f67df7f777",
        "_uuid": "5c37558d562baadc5393e0ad602c964067b8ebb7",
        "trusted": false
      },
      "cell_type": "code",
      "source": "#All of the above feature engineering is done to test data.\nnumt_cols = tf.select_dtypes(include=['number']).columns\nntf = tf[numt_cols]\nntf = ntf.drop(['MSSubClass','MoSold','YrSold'],axis=1)\nntf = ntf.fillna(ndf.median())\nntf[\"GarageArea\"][ntf[\"GarageArea\"]>1100] = ntf[\"GarageArea\"].mean()\nntf[\"TotalBsmtSF\"][ntf[\"TotalBsmtSF\"]>=3000] = ntf[\"TotalBsmtSF\"].mean()\nntf[\"1stFlrSF\"][ntf[\"1stFlrSF\"]>=2500] = ntf[\"1stFlrSF\"].mean()\nntf[\"GrLivArea\"][ntf[\"GrLivArea\"]>=4000] = ntf[\"GrLivArea\"].mean()\nntf[\"WoodDeckSF\"][ntf[\"WoodDeckSF\"]>=600] = ntf[\"WoodDeckSF\"].mean()\nntf[\"LotFrontage\"][ntf[\"LotFrontage\"]>=160] = ntf[\"LotFrontage\"].mean()\nntf[\"LotArea\"][ntf[\"LotArea\"]>=27000] = ntf[\"LotArea\"].mean()\nfor _ in ntf.columns:\n    if _ not in ntf.columns[(ntf == 0).any()]:\n        ntf[_] = np.log2(ntf[_])\ncatt_cols = [_ for _ in tf.columns if _ not in ntf.columns]\nctf = tf[catt_cols]\nctf = ctf.drop(lowlearn_cat,axis=1)\nfor _ in actualmiss_cat:\n    null_ind = ctf[_].isnull()\n    ctf.loc[null_ind, _] = 'None'\nctf[['MSSubClass', 'MoSold', 'YrSold']] = ctf[['MSSubClass', 'MoSold', 'YrSold']].astype(str)\nctf = pd.get_dummies(ctf)\nctf = ctf.fillna(ctf.median())\nntf.shape,ctf.shape",
      "execution_count": null,
      "outputs": []
    },
    {
      "metadata": {
        "_cell_guid": "f41ae526-1902-4912-8045-a33eec7bb2ee",
        "_uuid": "f15e806f92b705f0b57e0922d91ca4f0d72d2443",
        "trusted": false
      },
      "cell_type": "code",
      "source": "tfc = pd.concat([ntf,ctf],axis=1)\nlen(tfc.columns)",
      "execution_count": null,
      "outputs": []
    },
    {
      "metadata": {
        "_cell_guid": "0ccea618-3ae7-4a32-a15e-7d95c0100555",
        "_uuid": "26d8e6867acba5f00fcfc42731b7316091f60c5e",
        "collapsed": true,
        "trusted": false
      },
      "cell_type": "code",
      "source": "#There are few columns in train data that are not in test data due to properties of certain categories\n#not been present, therefore they are inserted into the training data and initialized to 0 to maintain\n# dimensionality for computation\nfor col in cdf.columns:\n    if col not in ctf.columns:\n        ctf.insert(cdf.columns.get_loc(col), col, 0)\n        tfc.insert(cdf.columns.get_loc(col), col, 0)",
      "execution_count": null,
      "outputs": []
    },
    {
      "metadata": {
        "_cell_guid": "1d6569a9-9721-4eb7-beb1-184fe8065f59",
        "_uuid": "44034b07e0792486795c0b072237494a62cac911",
        "trusted": false
      },
      "cell_type": "code",
      "source": "ctf.shape",
      "execution_count": null,
      "outputs": []
    },
    {
      "metadata": {
        "_cell_guid": "3eec32ff-d69f-4ad9-ad6f-f0c4cd0ba990",
        "_uuid": "b6e9322ed961a009e93d12bccfff48093785a38d",
        "collapsed": true,
        "trusted": false
      },
      "cell_type": "code",
      "source": "#The columns which where in lownum_cat are dropped\ncdf = cdf.drop(lownum_cat,axis=1)\nctf = ctf.drop(lownum_cat,axis=1)",
      "execution_count": null,
      "outputs": []
    },
    {
      "metadata": {
        "_cell_guid": "49c7dfd7-1164-4b09-a249-f16e787573c4",
        "_uuid": "effac37c0d5bfbd131320a6cf2b5d3e2e7d30ac6",
        "trusted": false
      },
      "cell_type": "code",
      "source": "cdf.shape,ctf.shape",
      "execution_count": null,
      "outputs": []
    },
    {
      "metadata": {
        "_cell_guid": "67bdc816-30f1-4a53-a1c2-8162f219db3f",
        "_uuid": "35c34afb143771a5fc1acce995598216511645e6",
        "trusted": false
      },
      "cell_type": "code",
      "source": "#There might be few columns in test data that are not in train data due to properties of certain categories\n#not been present, therefore they are dropped from the test data because there isn't data to learn about \n#these categories\nfor col in ctf.columns:\n    if col not in cdf.columns:\n        print(col)",
      "execution_count": null,
      "outputs": []
    },
    {
      "metadata": {
        "_cell_guid": "ebeaec32-de48-47dd-a7cf-c60527307def",
        "_uuid": "d485399d386a5999d23f6567e6e5d64b36246f0e",
        "collapsed": true,
        "trusted": false
      },
      "cell_type": "code",
      "source": "ctf = ctf.drop(['MSSubClass_150'],axis = 1)",
      "execution_count": null,
      "outputs": []
    },
    {
      "metadata": {
        "_cell_guid": "9a321a2b-ac9c-43e0-8568-4764713dbbdb",
        "_uuid": "c3d51634301dbcffb46a695026d3f1c48cbd0dcc",
        "collapsed": true,
        "trusted": false
      },
      "cell_type": "code",
      "source": "dfc = dfc.drop(lownum_cat,axis=1)\ntfc = tfc.drop(lownum_cat,axis=1)\ntfc = tfc.drop(['MSSubClass_150'],axis = 1)",
      "execution_count": null,
      "outputs": []
    },
    {
      "metadata": {
        "_cell_guid": "833e04ca-8fb3-4032-8666-5d9e3715095f",
        "_uuid": "df4477e82512df83bf5e98a52c20fb36b1a86d35",
        "trusted": false
      },
      "cell_type": "code",
      "source": "dfc.shape,tfc.shape",
      "execution_count": null,
      "outputs": []
    },
    {
      "metadata": {
        "_cell_guid": "0c7c1c56-0234-430d-bb71-8f6ea093d2f0",
        "_uuid": "5abe298bb58cceba29ae4c7bdc5a6c918c7d283a",
        "collapsed": true,
        "trusted": false
      },
      "cell_type": "code",
      "source": "#The hyperparameters are tuned using the gridsearchcv function which tries all combinations of the parameters\n#that is given to it and tells the best parameters to use.\n#XGBRegressor is used, for details refer the link given at the end.\nparams = {'max_depth': [3,4], 'n_estimators': [500,800,1000,1200], 'colsample_bytree': [0.2,0.3,0.4]}\n\nbxgb = GridSearchCV(estimator = XGBRegressor(learning_rate=0.05), param_grid = params, cv = 5, n_jobs = -1, verbose = 3)\nbxgb.fit(dfc.drop('SalePrice',axis = 1),dfc['SalePrice'])\nprint(bxgb.best_estimator_)",
      "execution_count": null,
      "outputs": []
    },
    {
      "metadata": {
        "_cell_guid": "95edea4f-0a89-4be3-a917-d0fbf5935281",
        "_uuid": "c1679bcfc8e4dc565c9656c09988c9e0ea0a4fe1",
        "collapsed": true,
        "trusted": false
      },
      "cell_type": "code",
      "source": "bxgb = XGBRegressor(colsample_bytree=0.2,learning_rate=0.05, max_depth=3, n_estimators=1000)\n#cv_score is the score of each fold.\ncv_score = cross_val_score(bxgb, dfc.drop('SalePrice', axis = 1), dfc['SalePrice'], cv = 5, n_jobs = -1)",
      "execution_count": null,
      "outputs": []
    },
    {
      "metadata": {
        "_cell_guid": "11dfe8b5-2d83-46f7-b68f-a746d3562a5f",
        "_uuid": "f47f04ab858dd9dcf13c3e43209263d1e4f4796d",
        "trusted": false
      },
      "cell_type": "code",
      "source": "#The average score across all folds.\nprint('Mean CV XGB: '+ str(np.mean(cv_score)))",
      "execution_count": null,
      "outputs": []
    },
    {
      "metadata": {
        "_cell_guid": "ab90ce58-6b59-4db8-bd39-afbe46fef76f",
        "_uuid": "1f72c8e5594997cb78ad521eca197b73fecb28c4",
        "collapsed": true,
        "trusted": false
      },
      "cell_type": "code",
      "source": "bxgb.fit(dfc.drop('SalePrice',axis = 1),dfc['SalePrice'])\nyt_xgb = bxgb.predict(tfc)",
      "execution_count": null,
      "outputs": []
    },
    {
      "metadata": {
        "_cell_guid": "8ad30f12-020e-49ca-b1e2-740acfe81122",
        "_uuid": "68e06ed7bc6475ced41ea48a7f40543b9137c421",
        "trusted": false
      },
      "cell_type": "code",
      "source": "yt_xgb",
      "execution_count": null,
      "outputs": []
    },
    {
      "metadata": {
        "_cell_guid": "e05105ce-72c2-410b-a0b0-d8e02637445c",
        "_uuid": "ba5f076cbc6c6fca51343cf516065040d7fc12bb",
        "collapsed": true,
        "trusted": false
      },
      "cell_type": "code",
      "source": "yt2_xgb = np.power(2,yt_xgb)",
      "execution_count": null,
      "outputs": []
    },
    {
      "metadata": {
        "_cell_guid": "0bedd868-13ce-47c7-88bf-33413a83a924",
        "_uuid": "04e5bf39d387db546c5fcd9533bb3747237d1e83",
        "trusted": false
      },
      "cell_type": "code",
      "source": "yt2_xgb",
      "execution_count": null,
      "outputs": []
    },
    {
      "metadata": {
        "_cell_guid": "4d4cbde4-a89f-4fe8-8d1c-7fc6ef79c4eb",
        "_uuid": "0fd863a1840d3ae986ec492b313278b397749fcf",
        "collapsed": true,
        "trusted": false
      },
      "cell_type": "code",
      "source": "#LassoCV is exactly same as Lasso but it will tune it's hyper parameters automatically on successive usage.\nlcv = LassoCV()\nslcv = Pipeline([('std_sclr',StandardScaler()),('lcv',lcv)])\n\ncv_score = cross_val_score(slcv, dfc.drop(['SalePrice'], axis = 1), dfc['SalePrice'], cv = 5, n_jobs=-1)",
      "execution_count": null,
      "outputs": []
    },
    {
      "metadata": {
        "_cell_guid": "8b3e2dde-8ff2-4d30-933b-0541077f70c3",
        "_uuid": "578df4d8777d2ff7ca3269a17093296890fa628c",
        "trusted": false
      },
      "cell_type": "code",
      "source": "print('Mean CV Lasso: '+ str(np.mean(cv_score)))",
      "execution_count": null,
      "outputs": []
    },
    {
      "metadata": {
        "_cell_guid": "0a911a5d-59ad-4fef-912e-91c2e6f49250",
        "_uuid": "7dd79a18656ffeb539a281d250f9fb4efad92864",
        "collapsed": true,
        "trusted": false
      },
      "cell_type": "code",
      "source": "slcv.fit(dfc.drop('SalePrice',axis = 1),dfc['SalePrice'])\nyt_lcv = slcv.predict(tfc)",
      "execution_count": null,
      "outputs": []
    },
    {
      "metadata": {
        "_uuid": "32d2ac51d37328f585c1a941c1e10993ab8f9d27",
        "trusted": false
      },
      "cell_type": "code",
      "source": "w = slcv.named_steps['lcv'].coef_\ncount=0\nfor i in range(len(w)):\n    if(w[i]==0):\n        count+=1\nw",
      "execution_count": null,
      "outputs": []
    },
    {
      "metadata": {
        "_uuid": "28a2448cc0aee9dd8e137d64c6a2133f492f5459",
        "trusted": false
      },
      "cell_type": "code",
      "source": "count",
      "execution_count": null,
      "outputs": []
    },
    {
      "metadata": {
        "_cell_guid": "3e71ee69-bf82-4667-a049-781fd2568707",
        "_uuid": "e57d802b52fc19d43ab95f65fc37318cda31874f",
        "trusted": false
      },
      "cell_type": "code",
      "source": "yt_lcv",
      "execution_count": null,
      "outputs": []
    },
    {
      "metadata": {
        "_cell_guid": "5932c4be-357d-4dcc-a5a2-63bd964bc1ea",
        "_uuid": "e9bc61f60549505ed0162ae2a37dacabbb0ac14c",
        "collapsed": true,
        "trusted": false
      },
      "cell_type": "code",
      "source": "yt2_lcv = np.power(2,yt_lcv)",
      "execution_count": null,
      "outputs": []
    },
    {
      "metadata": {
        "_cell_guid": "b1bc8c46-763c-4ba7-9e66-a7e7b5154bba",
        "_uuid": "3e73d64cf20c00bb03ebf3161ab4fa356d35d3a9",
        "trusted": false
      },
      "cell_type": "code",
      "source": "yt2_lcv",
      "execution_count": null,
      "outputs": []
    },
    {
      "metadata": {
        "_cell_guid": "8ceee262-6779-4b8e-a349-0d19572245c5",
        "_uuid": "564a522239ba4b125b326048974029ecdbdecd88",
        "collapsed": true,
        "trusted": false
      },
      "cell_type": "code",
      "source": "#Concept of ensemble modeling is used, it is like, not same as, bagging algorithms which take best among \n#values, Ex: Pocket algorithm in perceptron, but this works on the scale of models than values.\n#A best example of ensemble modeling is random forest, rather than 1 desicion tree, multiple trees are grown\n#and their average result is used, which gives better results than a single tree.\nyt2 = (yt2_xgb + yt2_lcv)/2",
      "execution_count": null,
      "outputs": []
    },
    {
      "metadata": {
        "_cell_guid": "5434d733-b92e-4883-86d9-c23e0ae469ca",
        "_uuid": "3f620e9c2ee619e74517eb332db890c6f94942f6",
        "trusted": false
      },
      "cell_type": "code",
      "source": "zt",
      "execution_count": null,
      "outputs": []
    },
    {
      "metadata": {
        "_cell_guid": "e3792447-1969-4c1f-941f-767238625505",
        "_uuid": "acc90003d3339444c41754b20c92fdf730b554fb",
        "trusted": false
      },
      "cell_type": "code",
      "source": "yt_pred = np.vstack((zt,yt2))\nyt_pred",
      "execution_count": null,
      "outputs": []
    },
    {
      "metadata": {
        "_cell_guid": "2bab39e4-85cd-4c69-9f0f-2320a182638a",
        "_uuid": "f061c351a331a15ad86abd0560e2f4109c73b7d2",
        "collapsed": true,
        "trusted": false
      },
      "cell_type": "code",
      "source": "f = open('hp_output_lasxgb.csv', 'w')\nf.write(\"Id,SalePrice\\n\")\nfor i in range(1459):\n    f.write(\"{0},{1}\\n\".format(int(yt_pred[0][i]),float(yt_pred[1][i])))",
      "execution_count": null,
      "outputs": []
    },
    {
      "metadata": {
        "_cell_guid": "40f17070-9f66-4417-8ac3-d3353ba51603",
        "_uuid": "d0ab29d97c203459d58953087c472c3262a713cf",
        "collapsed": true,
        "trusted": false
      },
      "cell_type": "code",
      "source": "",
      "execution_count": null,
      "outputs": []
    },
    {
      "metadata": {
        "_cell_guid": "fb9337a3-f4c0-4c64-a06c-1c8d87284415",
        "_uuid": "89d3c13f14d1ef9665ad4f376d2ba7a2c530a769",
        "collapsed": true,
        "trusted": false
      },
      "cell_type": "code",
      "source": "\"\"\"\nUseful Links:\n\nPipeline: https://medium.com/@yanhann10/a-brief-view-of-machine-learning-pipeline-in-python-5f50b941fca8\ngridsearchCV: https://stackoverflow.com/questions/30102973/how-to-get-best-estimator-on-gridsearchcv-random-forest-classifier-scikit\nLasso algo: https://www.analyticsvidhya.com/blog/2016/01/complete-tutorial-ridge-lasso-regression-python/\nGradient boosting algorithm: https://www.analyticsvidhya.com/blog/2016/02/complete-guide-parameter-tuning-gradient-boosting-gbm-python/\nHyper parameter tuning of XGB: https://www.analyticsvidhya.com/blog/2016/03/complete-guide-parameter-tuning-xgboost-with-codes-python/\n\"\"\"",
      "execution_count": null,
      "outputs": []
    }
  ],
  "metadata": {
    "kernelspec": {
      "display_name": "Python 3",
      "language": "python",
      "name": "python3"
    },
    "language_info": {
      "name": "python",
      "version": "3.6.6",
      "mimetype": "text/x-python",
      "codemirror_mode": {
        "name": "ipython",
        "version": 3
      },
      "pygments_lexer": "ipython3",
      "nbconvert_exporter": "python",
      "file_extension": ".py"
    }
  },
  "nbformat": 4,
  "nbformat_minor": 1
}